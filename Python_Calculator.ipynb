{
  "nbformat": 4,
  "nbformat_minor": 0,
  "metadata": {
    "colab": {
      "provenance": [],
      "collapsed_sections": [],
      "authorship_tag": "ABX9TyM+PwkHD64Mb6+c0h7zThnK",
      "include_colab_link": true
    },
    "kernelspec": {
      "name": "python3",
      "display_name": "Python 3"
    },
    "language_info": {
      "name": "python"
    }
  },
  "cells": [
    {
      "cell_type": "markdown",
      "metadata": {
        "id": "view-in-github",
        "colab_type": "text"
      },
      "source": [
        "<a href=\"https://colab.research.google.com/github/Ajiboyefemifaith/Python-Calculator/blob/main/Python_Calculator.ipynb\" target=\"_parent\"><img src=\"https://colab.research.google.com/assets/colab-badge.svg\" alt=\"Open In Colab\"/></a>"
      ]
    },
    {
      "cell_type": "markdown",
      "source": [
        "**Goal**\n",
        "\n",
        "Build a calculator that takes in two inputs from a user and can perform basic mathematical operations like Addition, Subtraction, Multiplication and Division.\n",
        "\n"
      ],
      "metadata": {
        "id": "1t9Bu7zzmqEj"
      }
    },
    {
      "cell_type": "markdown",
      "source": [
        "**Task 1**\n",
        "\n",
        "Take two inputs from users"
      ],
      "metadata": {
        "id": "45jkLnyuHBlZ"
      }
    },
    {
      "cell_type": "code",
      "execution_count": null,
      "metadata": {
        "id": "z_yeE0Ahlt7o",
        "colab": {
          "base_uri": "https://localhost:8080/"
        },
        "outputId": "05cd6755-45c8-4301-8512-51bfaa3978d8"
      },
      "outputs": [
        {
          "name": "stdout",
          "output_type": "stream",
          "text": [
            "Please enter the first number400\n",
            "Please enter the second number500\n"
          ]
        }
      ],
      "source": [
        "x= int(input(\"Please enter the first number\"))\n",
        "y= int(input(\"Please enter the second number\"))\n"
      ]
    },
    {
      "cell_type": "markdown",
      "source": [
        "**Task 2**\n",
        "\n",
        "Users should select the operation to be carried out.\n",
        "\n"
      ],
      "metadata": {
        "id": "r7oA9YWRHdSz"
      }
    },
    {
      "cell_type": "code",
      "source": [
        "Operation=input(\"What operation would you like to carry out?: Addition, Subtraction,Multiplication or Division\")"
      ],
      "metadata": {
        "id": "fQAfUdF8nKJO",
        "colab": {
          "base_uri": "https://localhost:8080/"
        },
        "outputId": "7444f2ee-a007-44fb-99c3-476f23c2005a"
      },
      "execution_count": null,
      "outputs": [
        {
          "name": "stdout",
          "output_type": "stream",
          "text": [
            "What operation would you like to carry out?: Addition, Subtraction,Multiplication or DivisionAddition\n"
          ]
        }
      ]
    },
    {
      "cell_type": "markdown",
      "source": [
        "**Task 3**\n",
        "\n",
        "Write a condition that carries out the whole operation for the users."
      ],
      "metadata": {
        "id": "AI7REJzeIBjE"
      }
    },
    {
      "cell_type": "code",
      "source": [
        "if Operation== \"Addition\":\n",
        "    print(\"The result of the operation is:\",x+y)\n",
        "elif Operation == \"Subtraction\":\n",
        "    print(\"The result of the operation is:\",x-y)\n",
        "elif Operation== \"Division\":\n",
        "    print(\"The result of the operation is:\", x/y)\n",
        "else:\n",
        "    print(\"The result of the operation is:\", x*y)"
      ],
      "metadata": {
        "colab": {
          "base_uri": "https://localhost:8080/"
        },
        "id": "tj7H2oNAIMhp",
        "outputId": "92fbba6e-57f9-4fdb-8e9e-24bb56a05085"
      },
      "execution_count": null,
      "outputs": [
        {
          "output_type": "stream",
          "name": "stdout",
          "text": [
            "The result of the operation is: 900\n"
          ]
        }
      ]
    },
    {
      "cell_type": "code",
      "source": [],
      "metadata": {
        "id": "NcxzL8lbJPRO"
      },
      "execution_count": null,
      "outputs": []
    }
  ]
}